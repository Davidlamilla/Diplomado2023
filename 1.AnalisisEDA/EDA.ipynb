{
 "cells": [
  {
   "attachments": {},
   "cell_type": "markdown",
   "metadata": {},
   "source": [
    "## Introducción Analisis Descriptivo Exploratorio"
   ]
  },
  {
   "attachments": {},
   "cell_type": "markdown",
   "metadata": {},
   "source": [
    "## Paso 1: Importar Librerias"
   ]
  },
  {
   "cell_type": "code",
   "execution_count": 1,
   "metadata": {},
   "outputs": [],
   "source": [
    "## Libreria para manipulacion de datos\n",
    "import pandas as pd\n",
    "## Libreria Analisis matematico\n",
    "import numpy as np\n",
    "\n"
   ]
  },
  {
   "attachments": {},
   "cell_type": "markdown",
   "metadata": {},
   "source": [
    "## Paso 2: Importar Data"
   ]
  },
  {
   "cell_type": "code",
   "execution_count": null,
   "metadata": {},
   "outputs": [],
   "source": [
    "## Importación tradicional de la data-Fumciones\n",
    "nombreArchivo=\"data.csv\"\n",
    "datos = pd.read_csv(\"./dataset/data.csv\")\n",
    "datos.head()"
   ]
  },
  {
   "cell_type": "code",
   "execution_count": null,
   "metadata": {},
   "outputs": [],
   "source": [
    "## Mismo procedimiento pero con funciones\n",
    "def importarData(ruta, nomArchivo):\n",
    "    datos = pd.read_csv(ruta+nomArchivo)\n",
    "    return datos\n",
    "\n",
    "calorias = importarData(\"./dataset/\",\"data.csv\")\n",
    "calorias.head"
   ]
  },
  {
   "cell_type": "code",
   "execution_count": null,
   "metadata": {},
   "outputs": [],
   "source": [
    "## Cargar libro de excel - especificamente una hoja\n",
    "def importDatoExcel(ruta, nomArchivo, coluno, coldos):\n",
    "    df = pd.read_excel(ruta+nomArchivo)\n",
    "    dfdos= pd.DataFrame(df, columns=[coluno, coldos])\n",
    "    return dfdos\n",
    "\n",
    "Covid = importDatoExcel(\"./dataset/\",\"Productos.xlsx\")\n",
    "\n",
    "covid"
   ]
  },
  {
   "attachments": {},
   "cell_type": "markdown",
   "metadata": {},
   "source": [
    "### FUNCIONES"
   ]
  },
  {
   "cell_type": "code",
   "execution_count": 2,
   "metadata": {},
   "outputs": [],
   "source": [
    "### Función   para cargar data sea .csv o .xlsx\n",
    "def importDatos(ruta, archivo, ext):\n",
    "    if ext == '.csv':\n",
    "        data = pd.read_csv(ruta+archivo+ext)\n",
    "        return data\n",
    "    \n",
    "    elif ext == '.xlsx':\n",
    "        data = pd.read_excel(ruta+archivo+ext) \n",
    "        return data\n",
    "    else :\n",
    "        print('Extención diferente')\n",
    "        \n",
    "\n",
    "### Función para datos NAN -> NULL -> \n",
    "def datos_NAN(df):\n",
    "    if isinstance(df, pd.DataFrame):\n",
    "        total_na=df.isna().sum().sum()\n",
    "        print(\"Diomenciones: %d filas, %d columnas\" % (df.shape[0], df.shape[1]))\n",
    "        print(\"Total de Valores NAN: %d\" % (total_na))\n",
    "        print(\"%40s %10s %10s %10s\" % (\"Nombre Columna\",\"Tipo dato\",\"#Unicos\",\"Cant Valores NAN\"))\n",
    "        col_name = df.columns\n",
    "        dtyp = df.dtypes\n",
    "        uniq = df.nunique()\n",
    "        na_val = df.isna().sum()\n",
    "        for i in range(len(df.columns)):\n",
    "            print(\"%40s %10s %10s %10s\" % (col_name[i], dtyp[i], uniq[i], na_val[i]))\n",
    "    else:\n",
    "        print(\"Se esperaba un DataFrame: %15s\" % (type(df)))\n",
    "        \n",
    "        \n",
    "### Numerico = Media o Mediana (NAN) - Histograma(Numerico) - Media, Forma de campana(Mediana)\n",
    "def histoplot(df, nomCol, anchoBar):\n",
    "        sns.histplot(data=df, x=nomCol, binwidth=anchoBar, kde=True)\n",
    "        \n",
    "        \n",
    "### Función para la imputación de datos NAN con la media o la mediana\n",
    "def imputacionNA(df, nomCol, param):\n",
    "    if param==\"media\":\n",
    "        df[nomCol]=df[nomCol].fillna(df[nomCol].mean())\n",
    "        return df[nomCol]\n",
    "    else:\n",
    "        df[nomCol]=df[nomCol].fillna(df[nomCol].mean())\n",
    "        return df[nomCol]\n",
    "\n",
    "### Función revision datos Categoricos\n",
    "def revCategoricos(df, nomCol):\n",
    "    rev = df[nomCol].value_counts()\n",
    "    return rev\n",
    "\n",
    "### Función con base en patron\n",
    "def imputCat(df, nomCol, busqueda, reempl):\n",
    "    df[nomCol]=np.where(df[nomCol]== busqueda, reempl, df[nomCol])\n",
    "    return df[nomCol]\n",
    "        \n",
    "        \n",
    "### Funcion de remplazo NAN para Categoricos\n",
    "def imputacionCatNA(df, nomCol):\n",
    "    df[nomCol]= df[nomCol].fillna(df[nomCol].mode()[0])\n",
    "    return df[nomCol]\n",
    "\n",
    "### Funcion para cambiar de texto a numerico variables\n",
    "def cambioTextNum(df, nomCol, tipo):\n",
    "    df[nomCol]=df[nomCol].astype(tipo)\n",
    "    return df[nomCol]\n",
    "\n",
    "### Función para binarizar variables categoricas 2 opciones\n",
    "def cambTexBi(df, nomCol, busqueda, camuno, camdos):\n",
    "    df[nomCol]=np.where(df[nomCol]== busqueda,camuno, camdos)\n",
    "    return df[nomCol]\n",
    "\n",
    "### Funcion para One hot Encoder o variables dummies\n",
    "def convDummies(df, nomCol):\n",
    "    dummies = pd.get_dummies(df[nomCol])\n",
    "    data = pd.concat([df, dummies], axis=1)\n",
    "    data.drop(columns=[nomCol], inplace=True)\n",
    "    return data\n",
    "\n",
    "## Cambio de encabezado\n",
    "def cambEncab(df, ListaN):\n",
    "    df.columns = ListaN\n",
    "    return df\n",
    "    \n",
    "        "
   ]
  },
  {
   "cell_type": "markdown",
   "metadata": {},
   "source": [
    "### LLAMADO DE FUNCIONES"
   ]
  },
  {
   "cell_type": "code",
   "execution_count": 3,
   "metadata": {},
   "outputs": [
    {
     "data": {
      "text/html": [
       "<div>\n",
       "<style scoped>\n",
       "    .dataframe tbody tr th:only-of-type {\n",
       "        vertical-align: middle;\n",
       "    }\n",
       "\n",
       "    .dataframe tbody tr th {\n",
       "        vertical-align: top;\n",
       "    }\n",
       "\n",
       "    .dataframe thead th {\n",
       "        text-align: right;\n",
       "    }\n",
       "</style>\n",
       "<table border=\"1\" class=\"dataframe\">\n",
       "  <thead>\n",
       "    <tr style=\"text-align: right;\">\n",
       "      <th></th>\n",
       "      <th>Age</th>\n",
       "      <th>Gender</th>\n",
       "      <th>Temperature</th>\n",
       "      <th>Headache</th>\n",
       "      <th>Fever</th>\n",
       "      <th>Hospital</th>\n",
       "      <th>CovidDiagnosis</th>\n",
       "    </tr>\n",
       "  </thead>\n",
       "  <tbody>\n",
       "    <tr>\n",
       "      <th>0</th>\n",
       "      <td>12.0</td>\n",
       "      <td>Masculino</td>\n",
       "      <td>36°</td>\n",
       "      <td>SI</td>\n",
       "      <td>1.0</td>\n",
       "      <td>Moncaleano</td>\n",
       "      <td>positive</td>\n",
       "    </tr>\n",
       "    <tr>\n",
       "      <th>1</th>\n",
       "      <td>35.0</td>\n",
       "      <td>Femenino</td>\n",
       "      <td>38</td>\n",
       "      <td>NO</td>\n",
       "      <td>0.0</td>\n",
       "      <td>Medilaser</td>\n",
       "      <td>negative</td>\n",
       "    </tr>\n",
       "    <tr>\n",
       "      <th>2</th>\n",
       "      <td>65.0</td>\n",
       "      <td>NaN</td>\n",
       "      <td>36C</td>\n",
       "      <td>YES</td>\n",
       "      <td>1.0</td>\n",
       "      <td>Carmen Emilia</td>\n",
       "      <td>negative</td>\n",
       "    </tr>\n",
       "    <tr>\n",
       "      <th>3</th>\n",
       "      <td>78.0</td>\n",
       "      <td>NaN</td>\n",
       "      <td>39</td>\n",
       "      <td>NOP</td>\n",
       "      <td>1.0</td>\n",
       "      <td>Moncaleano</td>\n",
       "      <td>negative</td>\n",
       "    </tr>\n",
       "    <tr>\n",
       "      <th>4</th>\n",
       "      <td>41.0</td>\n",
       "      <td>Masculino</td>\n",
       "      <td>40.</td>\n",
       "      <td>SI</td>\n",
       "      <td>0.0</td>\n",
       "      <td>Medilaser</td>\n",
       "      <td>positive</td>\n",
       "    </tr>\n",
       "  </tbody>\n",
       "</table>\n",
       "</div>"
      ],
      "text/plain": [
       "    Age     Gender Temperature Headache  Fever       Hospital CovidDiagnosis\n",
       "0  12.0  Masculino         36°       SI    1.0     Moncaleano       positive\n",
       "1  35.0   Femenino          38       NO    0.0      Medilaser       negative\n",
       "2  65.0        NaN         36C      YES    1.0  Carmen Emilia       negative\n",
       "3  78.0        NaN          39      NOP    1.0     Moncaleano       negative\n",
       "4  41.0  Masculino         40.       SI    0.0      Medilaser       positive"
      ]
     },
     "execution_count": 3,
     "metadata": {},
     "output_type": "execute_result"
    }
   ],
   "source": [
    "data = importDatos('./dataset/','CovidDiagnosis','.xlsx')\n",
    "data.head()"
   ]
  },
  {
   "cell_type": "code",
   "execution_count": 4,
   "metadata": {},
   "outputs": [
    {
     "name": "stdout",
     "output_type": "stream",
     "text": [
      "Diomenciones: 99 filas, 7 columnas\n",
      "Total de Valores NAN: 49\n",
      "                          Nombre Columna  Tipo dato    #Unicos Cant Valores NAN\n",
      "                                     Age    float64         46          3\n",
      "                                  Gender     object          6          3\n",
      "                             Temperature     object         30          1\n",
      "                                Headache     object          6         35\n",
      "                                   Fever    float64          2          7\n",
      "                                Hospital     object          3          0\n",
      "                          CovidDiagnosis     object          2          0\n"
     ]
    }
   ],
   "source": [
    "### Revision de Datos NAN\n",
    "datos_NAN(data)"
   ]
  },
  {
   "cell_type": "code",
   "execution_count": null,
   "metadata": {},
   "outputs": [],
   "source": [
    "### Histrograma\n",
    "histoplot(data, \"Age\", 2)\n",
    "histoplot(data, \"Fever\", 2)"
   ]
  },
  {
   "cell_type": "code",
   "execution_count": 5,
   "metadata": {},
   "outputs": [],
   "source": [
    "### Imputación de datos NAN \n",
    "data['Age'] = imputacionNA(data, 'Age', 'mediana')\n",
    "data['Fever'] = imputacionNA(data, 'Fever', 'mediana')\n"
   ]
  },
  {
   "cell_type": "code",
   "execution_count": null,
   "metadata": {},
   "outputs": [],
   "source": [
    "data.describe().T\n",
    "data['Gender'].value_counts() ## Nos muestra los diferentes datos que hay en esa calumna\n",
    "revCategoricos(data, \"Headache\") ## Lo mismo pero con funcion\n"
   ]
  },
  {
   "cell_type": "code",
   "execution_count": null,
   "metadata": {},
   "outputs": [],
   "source": [
    "### Remplazo de datos raros\n",
    "imputCat(data, \"Headache\", \"NOP\",\"NO\")\n",
    "imputCat(data, \"Headache\", \"YES\",\"SI\")\n",
    "imputCat(data, \"Headache\", \"OUI\",\"SI\")\n",
    "imputCat(data, \"Headache\", \"SI \",\"SI\")\n",
    "\n",
    "data"
   ]
  },
  {
   "cell_type": "code",
   "execution_count": 8,
   "metadata": {},
   "outputs": [],
   "source": [
    "data['Headache'] = imputacionCatNA(data, 'Headache')\n",
    "data['Gender'] = imputacionCatNA(data, 'Gender')\n"
   ]
  },
  {
   "cell_type": "code",
   "execution_count": null,
   "metadata": {},
   "outputs": [],
   "source": [
    "### Revision de temperatura \n",
    "revCategoricos(data, \"Temperature\")\n",
    "\n",
    "###  Ahora modificamos esos datos\n",
    "data[\"Temperature\"] = imputCat(data, \"Temperature\", \"36C\",\"36\")\n",
    "data[\"Temperature\"] = imputCat(data, \"Temperature\", \"36°\",\"36\")\n",
    "data[\"Temperature\"] = imputCat(data, \"Temperature\", \"40.\",\"40\")\n",
    "data[\"Fever\"] = imputCat(data, \"Fever\", \"0.532608695652174\",\"0.0\")\n",
    "data[\"Age\"] = imputCat(data, \"Age\", \"21\",\"21.0\")\n",
    "\n",
    "### Ahora revisamos los datos de la columna Gender\n",
    "data[\"Gender\"] = imputCat(data, \"Gender\", \"Masculinoooo\",\"Masculino\")\n",
    "data[\"Gender\"] = imputCat(data, \"Gender\", \"Masculino…..//\",\"Masculino\")\n",
    "data[\"Gender\"] = imputCat(data, \"Gender\", \"femenino\",\"Femenino\")\n",
    "data[\"Gender\"] = imputCat(data, \"Gender\", \"masculino\",\"Masculino\")\n",
    "\n",
    "### Volvemos a revisar para ver los cambios\n",
    "revCategoricos(data, \"Gender\")"
   ]
  },
  {
   "cell_type": "code",
   "execution_count": null,
   "metadata": {},
   "outputs": [],
   "source": [
    "data[\"Temperature\"].info() # Para ver que tipo de dato es la columna"
   ]
  },
  {
   "cell_type": "code",
   "execution_count": null,
   "metadata": {},
   "outputs": [],
   "source": [
    "data[\"Temperature\"] = cambioTextNum(data, \"Temperature\", \"float64\")\n",
    "datos_NAN(data)"
   ]
  },
  {
   "cell_type": "code",
   "execution_count": null,
   "metadata": {},
   "outputs": [],
   "source": [
    "### Remplazo del dato NA en Temperature \n",
    "#histoplot(data, \"Temperature\", \"4\")\n",
    "\n",
    "data[\"Temperature\"]=imputacionNA(data, \"Temperature\", \"mediana\")\n",
    "\n",
    "datos_NAN(data)"
   ]
  },
  {
   "cell_type": "code",
   "execution_count": null,
   "metadata": {},
   "outputs": [],
   "source": [
    "datos_NAN(data)"
   ]
  },
  {
   "cell_type": "code",
   "execution_count": null,
   "metadata": {},
   "outputs": [],
   "source": [
    "### Cambiar de 1 a 0 CovidDiagnosis, Headache y Gender\n",
    "data[\"Gender\"]=cambTexBi(data, \"Gender\",\"Femenino\", 0,1)\n",
    "data[\"Headache\"]=cambTexBi(data, \"Headache\",\"NO\", 0,1)\n",
    "data[\"CovidDiagnosis\"]=cambTexBi(data, \"CovidDiagnosis\",\"negative\", 0,1)\n",
    "\n",
    "datos_NAN(data)\n",
    "\n",
    "data.head()\n"
   ]
  },
  {
   "cell_type": "code",
   "execution_count": null,
   "metadata": {},
   "outputs": [],
   "source": [
    "revCategoricos(data, \"Hospital\")"
   ]
  },
  {
   "cell_type": "code",
   "execution_count": null,
   "metadata": {},
   "outputs": [],
   "source": [
    "### Label encode\n",
    "#from sklearn import preprocessing\n",
    "\n",
    "#label_e = preprocessing.LabelEncoder()\n",
    "\n",
    "#data[\"Hospital\"]=label_e.fit_transform(data[\"Hospital\"])\n",
    "\n",
    "#revCategoricos(data, \"Hospital\")\n",
    "\n"
   ]
  },
  {
   "cell_type": "code",
   "execution_count": null,
   "metadata": {},
   "outputs": [],
   "source": [
    "### Convertir a Dumies\n",
    "dataF = convDummies(data, \"Hospital\")\n",
    "\n",
    "dataF.head()"
   ]
  },
  {
   "cell_type": "code",
   "execution_count": null,
   "metadata": {},
   "outputs": [],
   "source": [
    "### Cambiar encabezados\n",
    "dataF=cambEncab(dataF, [\"Edad\",\"Genero\",\"Temp\",\"DolorCab\",\"Fiebre\",\"CovidD\",\"CarmenH\",\"Medilaser\",\"Moncaleano\"])\n",
    "dataF.head() # Para ver la data\n",
    "dataF.describe().T # Para ver las estadisticas de la data"
   ]
  }
 ],
 "metadata": {
  "kernelspec": {
   "display_name": "Python 3",
   "language": "python",
   "name": "python3"
  },
  "language_info": {
   "codemirror_mode": {
    "name": "ipython",
    "version": 3
   },
   "file_extension": ".py",
   "mimetype": "text/x-python",
   "name": "python",
   "nbconvert_exporter": "python",
   "pygments_lexer": "ipython3",
   "version": "3.11.2"
  },
  "orig_nbformat": 4,
  "vscode": {
   "interpreter": {
    "hash": "434de347f7c80ef6f5dd390dfc63e5295c160fcd304d0a6a4dbaf1163d0579c1"
   }
  }
 },
 "nbformat": 4,
 "nbformat_minor": 2
}
